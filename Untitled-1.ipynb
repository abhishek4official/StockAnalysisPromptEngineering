{
 "cells": [
  {
   "cell_type": "code",
   "execution_count": 6,
   "metadata": {},
   "outputs": [
    {
     "name": "stderr",
     "output_type": "stream",
     "text": [
      "Token indices sequence length is longer than the specified maximum sequence length for this model (619 > 512). Running this sequence through the model will result in indexing errors\n"
     ]
    },
    {
     "name": "stdout",
     "output_type": "stream",
     "text": [
      "[{'summary_text': '**Overall Trend** The stock exhibits a strong upward trend, evident from the rising EMA and MACD lines, along with a consistently high ADX . The RSI has recently dipped below 70, '}]\n"
     ]
    },
    {
     "ename": "",
     "evalue": "",
     "output_type": "error",
     "traceback": [
      "\u001b[1;31mThe Kernel crashed while executing code in the current cell or a previous cell. \n",
      "\u001b[1;31mPlease review the code in the cell(s) to identify a possible cause of the failure. \n",
      "\u001b[1;31mClick <a href='https://aka.ms/vscodeJupyterKernelCrash'>here</a> for more info. \n",
      "\u001b[1;31mView Jupyter <a href='command:jupyter.viewOutput'>log</a> for further details."
     ]
    }
   ],
   "source": [
    "from transformers import pipeline\n",
    "\n",
    "summarizer = pipeline(\"summarization\", model=\"Falconsai/text_summarization\")\n",
    "\n",
    "ARTICLE = \"\"\" \n",
    "**Overall Trend**\n",
    "The stock exhibits a strong upward trend, evident from the rising EMA and MACD lines, along with a consistently high ADX indicating a strong trend. The RSI is also above 50, suggesting bullish momentum.\n",
    "\n",
    "**Key Observations**\n",
    "* **RSI:** The RSI has been consistently above 50, suggesting a bullish trend. However, it has recently dipped below 70, indicating potential overbought conditions.\n",
    "* **MACD:** The MACD line is above the signal line and has been consistently rising, indicating a strong bullish momentum. The MACD difference is also positive, further confirming the bullish trend.\n",
    "* **ADX:** The ADX is consistently above 25, indicating a strong trend. This suggests that the stock is likely to continue its current trend for some time.\n",
    "* **Bollinger Bands:** The stock is currently trading above the middle band and the lower band, indicating a bullish trend. The recent price action is close to the upper band, suggesting potential for a pullback.\n",
    "* **OBV:** The OBV has been steadily rising, indicating increasing buying pressure. This suggests that investors are confident about the stock's future prospects.\n",
    "* **ROC:** The ROC is consistently above 0, indicating that the stock is outperforming the market. This suggests that the stock is likely to continue its upward trend.\n",
    "* **Weekly Return:** The weekly returns have been consistently positive, indicating a strong upward trend. The recent returns have been particularly high, suggesting strong momentum.\n",
    "* **Monthly Return:** The monthly returns have also been consistently positive, indicating a strong upward trend. The recent returns have been particularly high, suggesting strong momentum.\n",
    "\n",
    "**Overall**\n",
    "The stock is currently in a strong uptrend, supported by positive technical indicators and strong historical performance. However, the recent overbought conditions and proximity to the upper Bollinger band suggest potential for a short-term pullback. It is important to monitor the stock closely for any signs of weakness.\n",
    "\n",
    "**Performance Rating**\n",
    "8/10\n",
    "\n",
    "**Probability Assessment:**\n",
    "* **7 Days:**\n",
    "    * **Positive:** 70%\n",
    "    * **Negative:** 20%\n",
    "    * **Neutral:** 10%\n",
    "* **30 Days:**\n",
    "    * **Positive:** 80%\n",
    "    * **Negative:** 10%\n",
    "    * **Neutral:** 10%\n",
    "\n",
    "**Return Calculation:**\n",
    "* **Positive:**\n",
    "    * **7 Days:** 3-5%\n",
    "    * **30 Days:** 10-15%\n",
    "* **Negative:**\n",
    "    * **7 Days:** -2 to -4%\n",
    "    * **30 Days:** -5 to -8%\n",
    "* **Neutral:**\n",
    "    * **7 Days:** 0-1%\n",
    "    * **30 Days:** 0-2%\n",
    "    \"\"\"\n",
    "print(summarizer(ARTICLE, max_length=50, min_length=30, do_sample=True))\n",
    "\n"
   ]
  },
  {
   "cell_type": "code",
   "execution_count": 7,
   "metadata": {},
   "outputs": [
    {
     "name": "stdout",
     "output_type": "stream",
     "text": [
      "^C\n"
     ]
    }
   ],
   "source": [
    "!conda install pytorch"
   ]
  }
 ],
 "metadata": {
  "kernelspec": {
   "display_name": "base",
   "language": "python",
   "name": "python3"
  },
  "language_info": {
   "codemirror_mode": {
    "name": "ipython",
    "version": 3
   },
   "file_extension": ".py",
   "mimetype": "text/x-python",
   "name": "python",
   "nbconvert_exporter": "python",
   "pygments_lexer": "ipython3",
   "version": "3.12.4"
  }
 },
 "nbformat": 4,
 "nbformat_minor": 2
}
