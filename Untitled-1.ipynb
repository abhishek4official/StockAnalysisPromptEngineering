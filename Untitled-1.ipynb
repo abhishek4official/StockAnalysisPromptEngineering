{
 "cells": [
  {
   "cell_type": "code",
   "execution_count": 6,
   "metadata": {},
   "outputs": [
    {
     "name": "stderr",
     "output_type": "stream",
     "text": [
      "Token indices sequence length is longer than the specified maximum sequence length for this model (619 > 512). Running this sequence through the model will result in indexing errors\n"
     ]
    },
    {
     "name": "stdout",
     "output_type": "stream",
     "text": [
      "[{'summary_text': '**Overall Trend** The stock exhibits a strong upward trend, evident from the rising EMA and MACD lines, along with a consistently high ADX . The RSI has recently dipped below 70, '}]\n"
     ]
    },
    {
     "ename": "",
     "evalue": "",
     "output_type": "error",
     "traceback": [
      "\u001b[1;31mThe Kernel crashed while executing code in the current cell or a previous cell. \n",
      "\u001b[1;31mPlease review the code in the cell(s) to identify a possible cause of the failure. \n",
      "\u001b[1;31mClick <a href='https://aka.ms/vscodeJupyterKernelCrash'>here</a> for more info. \n",
      "\u001b[1;31mView Jupyter <a href='command:jupyter.viewOutput'>log</a> for further details."
     ]
    }
   ],
   "source": [
    "from transformers import DistilBertTokenizer, DistilBertForSequenceClassification, pipeline\n",
    "\n",
    "tokenizer = DistilBertTokenizer.from_pretrained('distilbert-base-uncased')\n",
    "model = DistilBertForSequenceClassification.from_pretrained('distilbert-base-uncased')\n",
    "\n",
    "summarizer = pipeline(\"summarization\", model=model, tokenizer=tokenizer)\n",
    "summary = summarizer('''**Overall Trend**\n",
    "The stock has been exhibiting a generally positive trend in recent times, with a slight upward bias. However, there are signs of volatility and potential for a correction in the near term.\n",
    "\n",
    "**Key Observations**\n",
    "* **RSI:** The RSI is currently hovering around the overbought zone, indicating potential for a pullback. However, it has not yet crossed into the overbought territory, suggesting that the upward momentum may persist for a while.\n",
    "* **MACD:** The MACD line is above the signal line, indicating a bullish trend. However, the MACD difference is narrowing, which could signal a potential slowdown in the upward momentum.\n",
    "* **ADX:** The ADX is above 25, indicating a strong trend. However, it has been trending downwards in recent periods, suggesting that the trend might be losing strength.\n",
    "* **Bollinger Bands:** The stock price is currently trading near the upper band, indicating a potential for a correction. However, the bands are widening, which could suggest that the volatility is increasing.\n",
    "* **OBV:** The OBV has been trending upwards, indicating that buying pressure is still strong. However, the recent flatlining of the OBV suggests that the buying pressure might be waning.\n",
    "* **ROC:** The ROC is currently in positive territory, indicating that the stock price is rising faster than its average. However, it has been trending downwards, suggesting that the rate of change is slowing down.\n",
    "* **Weekly and Monthly Returns:** Both weekly and monthly returns have been positive in recent periods, indicating that the stock has been performing well. However, the returns have been declining in recent weeks, suggesting that the upward momentum might be slowing down.\n",
    "\n",
    "**Overall**\n",
    "The stock is currently in a bullish trend, but there are signs of potential for a correction in the near term. The RSI is near the overbought zone, the MACD difference is narrowing, and the ADX is trending downwards, all of which suggest that the upward momentum might be losing strength. However, the OBV is still trending upwards, and the ROC is in positive territory, indicating that buying pressure is still strong.\n",
    "\n",
    "**Performance Rating**\n",
    "The stock's performance can be rated **7 out of 10**. The stock has been performing well in recent periods, but there are signs of potential for a correction in the near term.\n",
    "\n",
    "**Probability Assessment:**\n",
    "* **7 Days:**\n",
    "    * **Positive:** 40%\n",
    "    * **Negative:** 35%\n",
    "    * **Neutral:** 25%\n",
    "* **30 Days:**\n",
    "    * **Positive:** 55%\n",
    "    * **Negative:** 25%\n",
    "    * **Neutral:** 20%\n",
    "\n",
    "**Return Calculation:**\n",
    "* **Positive:**\n",
    "    * **7 Days:** 2-3%\n",
    "    * **30 Days:** 8-10%\n",
    "* **Negative:**\n",
    "    * **7 Days:** -1 to -2%\n",
    "    * **30 Days:** -5 to -7%\n",
    "* **Neutral:**\n",
    "    * **7 Days:** 0 to 1%\n",
    "    * **30 Days:** 0 to 2%\n",
    "\n",
    "**Reasoning Explanation:**\n",
    "The probability assessments and return calculations are based on the historical data, technical indicators, and current market conditions. The recent positive performance of the stock, coupled with the strong buying pressure, suggests that the stock is likely to continue to rise in the medium term. However, the potential for a correction in the near term cannot be ignored, given the overbought RSI, narrowing MACD difference, and declining ADX. The return calculations are based on the expected volatility of the market and the stock's historical performance. It is important to note that these are just estimates, and the actual performance of the stock may vary.\n",
    "\n",
    "**Market-Specific Factors:**\n",
    "* **Economic Events:** The recent economic data in India has been mixed, with some positive indicators and some negative indicators. The government's policies are also uncertain, which could impact the stock market. \n",
    "* **Sector-Specific News:** News related to the stock's sector could also impact its performance. For example, if there is a positive development in the sector, the stock is likely to rise. \n",
    "* **Global Market Conditions:** The global market conditions are also important to consider, as they can impact the Indian stock market. For example, if there is a global economic slowdown, the Indian stock market is likely to be affected.\n",
    "\n",
    "**Disclaimer:** This analysis is for informational purposes only and should not be considered as investment advice. It is important to consult with a qualified financial advisor before making any investment decisions.''')"
   ]
  },
  {
   "cell_type": "code",
   "execution_count": 7,
   "metadata": {},
   "outputs": [
    {
     "name": "stdout",
     "output_type": "stream",
     "text": [
      "^C\n"
     ]
    }
   ],
   "source": [
    "!conda install pytorch"
   ]
  }
 ],
 "metadata": {
  "kernelspec": {
   "display_name": "base",
   "language": "python",
   "name": "python3"
  },
  "language_info": {
   "codemirror_mode": {
    "name": "ipython",
    "version": 3
   },
   "file_extension": ".py",
   "mimetype": "text/x-python",
   "name": "python",
   "nbconvert_exporter": "python",
   "pygments_lexer": "ipython3",
   "version": "3.12.4"
  }
 },
 "nbformat": 4,
 "nbformat_minor": 2
}
